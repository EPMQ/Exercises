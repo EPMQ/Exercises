{
 "cells": [
  {
   "cell_type": "markdown",
   "metadata": {},
   "source": [
    "### IDK WHAT TO CALL THIS SPARK EXERCISE, ALL I CAN SAY IS GOOD LOOK :P\n",
    "\n",
    "#### Dataset\n",
    "it consists of three tables coming from the database of a shop, with products, sales and sellers.\n",
    "Data is available in Parquet files that you can download from [here](https://drive.google.com/file/d/1kCXnIeoPT6p9kS_ANJ0mmpxlfDwK1yio/view?usp=sharing) (~6Gb) or use the *generator.py* script to generate the data.\n",
    "\n",
    "**Sales Table**\n",
    "\n",
    "Each row in this table is an order and every order can contain only one product. Each row stores the following fields:\n",
    "- `order_id`: The order ID\n",
    "- `product_id`: The single product sold in the order. All orders have exactly one product\n",
    "- `seller_id`: The selling employee ID that sold the product\n",
    "- `num_pieces_sold`: The number of units sold for the specific product in the order\n",
    "- `bill_raw_text`: A string that represents the raw text of the bill associated with the order\n",
    "- `date`: The date of the order\n",
    "\n",
    "**Products Table**\n",
    "\n",
    "Each row represents a distinct product. The fields are:\n",
    "- `product_id`: The product ID\n",
    "- `product_name`: The product name\n",
    "- `price`: The product price\n",
    "\n",
    "**Sellers Table**\n",
    "\n",
    "This table contains the list of all the sellers:\n",
    "- `seller_id`: The seller ID\n",
    "- `seller_name`: The seller name\n",
    "- `daily_target`: The number of items (regardless of the product type) that the seller needs to hit his/her quota. For example, if the daily target is 100k, the employee can sell 100k units of product_0 or 30k units of product_1 and 70k units of product_2.\n",
    "\n",
    "\n",
    "#### Exercises\n",
    "**Note**: If you initialized this notebook using the pyspark command, the spark session is already initialized in a variable named `spark`."
   ]
  },
  {
   "cell_type": "markdown",
   "metadata": {},
   "source": [
    "**Warm-up #1**\n",
    "- Find out how many orders, how many products, and how many sellers are in the data.\n",
    "- How many products have been sold at least once?\n",
    "- Which is the product contained in more orders?"
   ]
  },
  {
   "cell_type": "code",
   "execution_count": null,
   "metadata": {},
   "outputs": [],
   "source": [
    "# Write your code here"
   ]
  },
  {
   "cell_type": "markdown",
   "metadata": {},
   "source": [
    "**Warm-up #2**\n",
    "- How many distinct products have been sold in each day?"
   ]
  },
  {
   "cell_type": "code",
   "execution_count": null,
   "metadata": {},
   "outputs": [],
   "source": [
    "# Write your code here"
   ]
  },
  {
   "cell_type": "markdown",
   "metadata": {},
   "source": [
    "**Exercise #1**\n",
    "- What is the average revenue of the orders?\n",
    "\n",
    "**Note**\n",
    "Average Revenue = Total Revenue / Quantity of units\n",
    "\n",
    "where *Total Revenue* is the sum of the no. of products sold multiplied by their respective prices, and *Quantity of units* is the total number of products sold."
   ]
  },
  {
   "cell_type": "code",
   "execution_count": null,
   "metadata": {},
   "outputs": [],
   "source": [
    "# Write your code here"
   ]
  },
  {
   "cell_type": "markdown",
   "metadata": {},
   "source": [
    "**Exercise #2**\n",
    "- For each seller, what is the average % contribution of an order to the seller's daily quota?\n",
    "\n",
    "**Example**\n",
    "\n",
    "If seller_0 with `quota=250` has 3 orders:\n",
    "\n",
    "Order 1: 10 products sold\\\n",
    "Order 2: 8 products sold\\\n",
    "Order 3: 7 products sold\n",
    "\n",
    "The average % contribution of orders to the seller's quota would be:\n",
    "\n",
    "Order 1: 10/250 = 0.04 (4%)\\\n",
    "Order 2: 8/250 = 0.032 (3.2%)\\\n",
    "Order 3: 7/250 = 0.028 (2.8%)\n",
    "\n",
    "Average % contribution = (0.04 + 0.032 + 0.028)/3 = 0.03333 (3.3%)"
   ]
  },
  {
   "cell_type": "code",
   "execution_count": null,
   "metadata": {},
   "outputs": [],
   "source": [
    "# Write your code here"
   ]
  },
  {
   "cell_type": "markdown",
   "metadata": {},
   "source": [
    "**Exercise #3**\n",
    "- Who are the second most selling and the least selling persons (sellers) for each product?\n",
    "- Who are those for product with `product_id=0`?"
   ]
  },
  {
   "cell_type": "code",
   "execution_count": null,
   "metadata": {},
   "outputs": [],
   "source": [
    "# Write your code here"
   ]
  },
  {
   "cell_type": "markdown",
   "metadata": {},
   "source": [
    "**Exercise #4**\n",
    "- Create a new column called \"hashed_bill\" defined as follows:\n",
    "    - If the order_id is even: apply MD5 hashing iteratively to the bill_raw_text field once for each 'A' (capital 'A') present in the text. E.g., if the bill text is 'nbAAnllA', you would apply hashing three times iteratively: md5(md5(md5(\"bill text here\"))).\n",
    "    - If the oerder_id is odd: apply SHA256 hashing to the bill text\n",
    "- Check if there are any duplicate on the new column\n",
    "\n",
    "**Note**\n",
    "\n",
    "To compute the md5/sha256 of a string, use the following snippet:\n",
    "\n",
    "```python\n",
    "import hashlib\n",
    "\n",
    "md5_hash = hashlib.md5(\"your string here\".encode(\"utf-8\")).hexdigest()\n",
    "sha256_hash = hashlib.sha256(\"your string here\".encode(\"utf-8\")).hexdigest()\n",
    "\n",
    "```"
   ]
  },
  {
   "cell_type": "code",
   "execution_count": null,
   "metadata": {},
   "outputs": [],
   "source": [
    "# Write your code here"
   ]
  }
 ],
 "metadata": {
  "interpreter": {
   "hash": "46d54ecab3975bbfdd78906992bbf587e4d5b989a5ad93c50fe297b15da67297"
  },
  "kernelspec": {
   "display_name": "Python 3.8.10 64-bit ('sparklab')",
   "language": "python",
   "name": "python3"
  },
  "language_info": {
   "codemirror_mode": {
    "name": "ipython",
    "version": 3
   },
   "file_extension": ".py",
   "mimetype": "text/x-python",
   "name": "python",
   "nbconvert_exporter": "python",
   "pygments_lexer": "ipython3",
   "version": "3.8.10"
  },
  "orig_nbformat": 4
 },
 "nbformat": 4,
 "nbformat_minor": 2
}
